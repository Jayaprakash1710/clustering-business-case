{
 "cells": [
  {
   "cell_type": "code",
   "execution_count": 3,
   "id": "31682c55-053d-4e98-9a13-ff7eeb85226c",
   "metadata": {},
   "outputs": [],
   "source": [
    "import numpy as np\n",
    "import pandas as pd\n",
    "import matplotlib.pyplot as plt\n",
    "import seaborn as sns\n",
    "\n",
    "#preprocessing\n",
    "from sklearn.preprocessing import MinMaxScaler\n",
    "from sklearn.preprocessing import StandardScaler"
   ]
  },
  {
   "cell_type": "code",
   "execution_count": 4,
   "id": "ae44c8ed-3dae-44a8-a2c4-d78fffbbde44",
   "metadata": {},
   "outputs": [],
   "source": [
    "data=pd.read_csv('scaler_clustering.csv')"
   ]
  },
  {
   "cell_type": "code",
   "execution_count": 5,
   "id": "2365f18e-f151-4731-bfb4-060b1fd4991d",
   "metadata": {},
   "outputs": [
    {
     "data": {
      "text/html": [
       "<div>\n",
       "<style scoped>\n",
       "    .dataframe tbody tr th:only-of-type {\n",
       "        vertical-align: middle;\n",
       "    }\n",
       "\n",
       "    .dataframe tbody tr th {\n",
       "        vertical-align: top;\n",
       "    }\n",
       "\n",
       "    .dataframe thead th {\n",
       "        text-align: right;\n",
       "    }\n",
       "</style>\n",
       "<table border=\"1\" class=\"dataframe\">\n",
       "  <thead>\n",
       "    <tr style=\"text-align: right;\">\n",
       "      <th></th>\n",
       "      <th>Unnamed: 0</th>\n",
       "      <th>company_hash</th>\n",
       "      <th>email_hash</th>\n",
       "      <th>orgyear</th>\n",
       "      <th>ctc</th>\n",
       "      <th>job_position</th>\n",
       "      <th>ctc_updated_year</th>\n",
       "    </tr>\n",
       "  </thead>\n",
       "  <tbody>\n",
       "    <tr>\n",
       "      <th>0</th>\n",
       "      <td>0</td>\n",
       "      <td>atrgxnnt xzaxv</td>\n",
       "      <td>6de0a4417d18ab14334c3f43397fc13b30c35149d70c05...</td>\n",
       "      <td>2016.0</td>\n",
       "      <td>1100000</td>\n",
       "      <td>Other</td>\n",
       "      <td>2020.0</td>\n",
       "    </tr>\n",
       "    <tr>\n",
       "      <th>1</th>\n",
       "      <td>1</td>\n",
       "      <td>qtrxvzwt xzegwgbb rxbxnta</td>\n",
       "      <td>b0aaf1ac138b53cb6e039ba2c3d6604a250d02d5145c10...</td>\n",
       "      <td>2018.0</td>\n",
       "      <td>449999</td>\n",
       "      <td>FullStack Engineer</td>\n",
       "      <td>2019.0</td>\n",
       "    </tr>\n",
       "    <tr>\n",
       "      <th>2</th>\n",
       "      <td>2</td>\n",
       "      <td>ojzwnvwnxw vx</td>\n",
       "      <td>4860c670bcd48fb96c02a4b0ae3608ae6fdd98176112e9...</td>\n",
       "      <td>2015.0</td>\n",
       "      <td>2000000</td>\n",
       "      <td>Backend Engineer</td>\n",
       "      <td>2020.0</td>\n",
       "    </tr>\n",
       "    <tr>\n",
       "      <th>3</th>\n",
       "      <td>3</td>\n",
       "      <td>ngpgutaxv</td>\n",
       "      <td>effdede7a2e7c2af664c8a31d9346385016128d66bbc58...</td>\n",
       "      <td>2017.0</td>\n",
       "      <td>700000</td>\n",
       "      <td>Backend Engineer</td>\n",
       "      <td>2019.0</td>\n",
       "    </tr>\n",
       "    <tr>\n",
       "      <th>4</th>\n",
       "      <td>4</td>\n",
       "      <td>qxen sqghu</td>\n",
       "      <td>6ff54e709262f55cb999a1c1db8436cb2055d8f79ab520...</td>\n",
       "      <td>2017.0</td>\n",
       "      <td>1400000</td>\n",
       "      <td>FullStack Engineer</td>\n",
       "      <td>2019.0</td>\n",
       "    </tr>\n",
       "  </tbody>\n",
       "</table>\n",
       "</div>"
      ],
      "text/plain": [
       "   Unnamed: 0               company_hash  \\\n",
       "0           0             atrgxnnt xzaxv   \n",
       "1           1  qtrxvzwt xzegwgbb rxbxnta   \n",
       "2           2              ojzwnvwnxw vx   \n",
       "3           3                  ngpgutaxv   \n",
       "4           4                 qxen sqghu   \n",
       "\n",
       "                                          email_hash  orgyear      ctc  \\\n",
       "0  6de0a4417d18ab14334c3f43397fc13b30c35149d70c05...   2016.0  1100000   \n",
       "1  b0aaf1ac138b53cb6e039ba2c3d6604a250d02d5145c10...   2018.0   449999   \n",
       "2  4860c670bcd48fb96c02a4b0ae3608ae6fdd98176112e9...   2015.0  2000000   \n",
       "3  effdede7a2e7c2af664c8a31d9346385016128d66bbc58...   2017.0   700000   \n",
       "4  6ff54e709262f55cb999a1c1db8436cb2055d8f79ab520...   2017.0  1400000   \n",
       "\n",
       "         job_position  ctc_updated_year  \n",
       "0               Other            2020.0  \n",
       "1  FullStack Engineer            2019.0  \n",
       "2    Backend Engineer            2020.0  \n",
       "3    Backend Engineer            2019.0  \n",
       "4  FullStack Engineer            2019.0  "
      ]
     },
     "execution_count": 5,
     "metadata": {},
     "output_type": "execute_result"
    }
   ],
   "source": [
    "data.head()"
   ]
  },
  {
   "cell_type": "code",
   "execution_count": 8,
   "id": "35d298ed-d0fa-4218-bcff-7d35fbf83c1d",
   "metadata": {},
   "outputs": [
    {
     "data": {
      "text/plain": [
       "(205843, 7)"
      ]
     },
     "execution_count": 8,
     "metadata": {},
     "output_type": "execute_result"
    }
   ],
   "source": [
    "data.shape"
   ]
  },
  {
   "cell_type": "code",
   "execution_count": 6,
   "id": "29ba0463-7625-4ec2-b5dc-92dd0549ffee",
   "metadata": {},
   "outputs": [
    {
     "name": "stdout",
     "output_type": "stream",
     "text": [
      "<class 'pandas.core.frame.DataFrame'>\n",
      "RangeIndex: 205843 entries, 0 to 205842\n",
      "Data columns (total 7 columns):\n",
      " #   Column            Non-Null Count   Dtype  \n",
      "---  ------            --------------   -----  \n",
      " 0   Unnamed: 0        205843 non-null  int64  \n",
      " 1   company_hash      205799 non-null  object \n",
      " 2   email_hash        205843 non-null  object \n",
      " 3   orgyear           205757 non-null  float64\n",
      " 4   ctc               205843 non-null  int64  \n",
      " 5   job_position      153279 non-null  object \n",
      " 6   ctc_updated_year  205843 non-null  float64\n",
      "dtypes: float64(2), int64(2), object(3)\n",
      "memory usage: 11.0+ MB\n"
     ]
    }
   ],
   "source": [
    "data.info()"
   ]
  },
  {
   "cell_type": "code",
   "execution_count": 7,
   "id": "545993e0-3b22-487c-91b9-676f60256560",
   "metadata": {},
   "outputs": [
    {
     "data": {
      "text/plain": [
       "37299"
      ]
     },
     "execution_count": 7,
     "metadata": {},
     "output_type": "execute_result"
    }
   ],
   "source": [
    "data['company_hash'].nunique()"
   ]
  },
  {
   "cell_type": "code",
   "execution_count": null,
   "id": "988ca343-0bd1-494e-8ed6-79d6b14f1803",
   "metadata": {},
   "outputs": [],
   "source": []
  }
 ],
 "metadata": {
  "kernelspec": {
   "display_name": "Python 3 (ipykernel)",
   "language": "python",
   "name": "python3"
  },
  "language_info": {
   "codemirror_mode": {
    "name": "ipython",
    "version": 3
   },
   "file_extension": ".py",
   "mimetype": "text/x-python",
   "name": "python",
   "nbconvert_exporter": "python",
   "pygments_lexer": "ipython3",
   "version": "3.12.5"
  }
 },
 "nbformat": 4,
 "nbformat_minor": 5
}
